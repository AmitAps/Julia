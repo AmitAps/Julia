{
 "cells": [
  {
   "cell_type": "markdown",
   "id": "3730c660",
   "metadata": {},
   "source": [
    "To evaluate expressions written in a source file file.jl, write include(\"file.jl\")."
   ]
  },
  {
   "cell_type": "code",
   "execution_count": 4,
   "id": "b0962d84",
   "metadata": {},
   "outputs": [
    {
     "data": {
      "text/plain": [
       "\"/home/amit\""
      ]
     },
     "execution_count": 4,
     "metadata": {},
     "output_type": "execute_result"
    }
   ],
   "source": [
    "pwd()"
   ]
  },
  {
   "cell_type": "code",
   "execution_count": null,
   "id": "aa760305",
   "metadata": {},
   "outputs": [],
   "source": []
  }
 ],
 "metadata": {
  "kernelspec": {
   "display_name": "Julia 1.8.5",
   "language": "julia",
   "name": "julia-1.8"
  },
  "language_info": {
   "file_extension": ".jl",
   "mimetype": "application/julia",
   "name": "julia",
   "version": "1.8.5"
  }
 },
 "nbformat": 4,
 "nbformat_minor": 5
}
